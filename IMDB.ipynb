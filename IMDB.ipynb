{
 "cells": [
  {
   "cell_type": "markdown",
   "id": "f800807f",
   "metadata": {},
   "source": [
    "# Analysis of IMDB Data"
   ]
  },
  {
   "cell_type": "markdown",
   "id": "7ebfa7fa",
   "metadata": {},
   "source": [
    "We will analyze a subset of IMDB's actors, genres, movie actors, and movie ratings data. This dataset comes to us from Kaggle (https://www.kaggle.com/datasets/ashirwadsangwan/imdb-dataset) although we have taken steps to pull this data into a publis s3 bucket: \n",
    "\n",
    "* s3://cis9760-lecture9-movieanalysis/name.basics.tsv ---> (actors)\n",
    "* s3://cis9760-lecture9-movieanalysis/title.basics.tsv ---> (genres)\n",
    "* s3://cis9760-lecture9-movieanalysis/title.principals.tsv ---> (movie actors)\n",
    "* s3://cis9760-lecture9-movieanalysis/title.ratings.tsv ---> (movie ratings)"
   ]
  },
  {
   "cell_type": "markdown",
   "id": "1861740e",
   "metadata": {},
   "source": [
    "# Content"
   ]
  },
  {
   "cell_type": "markdown",
   "id": "0586a03d",
   "metadata": {},
   "source": [
    "\n",
    "**<br />name.basics.tsv.gz – Contains the following information for names:**\n",
    "<br />nconst (string) - alphanumeric unique identifier of the name/person.\n",
    "<br />primaryName (string)– name by which the person is most often credited.\n",
    "<br />birthYear – in YYYY format.\n",
    "<br />deathYear – in YYYY format if applicable, else .\n",
    "<br />primaryProfession (array of strings)– the top-3 professions of the person.\n",
    "<br />knownForTitles (array of tconsts) – titles the person is known for.\n",
    "<br/><br/>\n",
    "**<br />title.basics.tsv.gz - Contains the following information for titles:**\n",
    "<br />tconst (string) - alphanumeric unique identifier of the title.\n",
    "<br />titleType (string) – the type/format of the title (e.g. movie, short, tvseries, tvepisode, video, etc).\n",
    "<br />primaryTitle (string) – the more popular title / the title used by the filmmakers on promotional materials at the point of release.\n",
    "<br />originalTitle (string) - original title, in the original language.\n",
    "<br />isAdult (boolean) - 0: non-adult title; 1: adult title.\n",
    "<br />startYear (YYYY) – represents the release year of a title. In the case of TV Series, it is the series start year.\n",
    "<br />endYear (YYYY) – TV Series end year. for all other title types.\n",
    "<br />runtimeMinutes – primary runtime of the title, in minutes.\n",
    "<br />genres (string array) – includes up to three genres associated with the title.\n",
    "<br/><br/>\n",
    "**<br />title.principals.tsv – Contains the principal cast/crew for titles:**\n",
    "<br />tconst (string) - alphanumeric unique identifier of the title.\n",
    "<br />ordering (integer) – a number to uniquely identify rows for a given titleId.\n",
    "<br />nconst (string) - alphanumeric unique identifier of the name/person.\n",
    "<br />category (string) - the category of job that person was in.\n",
    "<br />job (string) - the specific job title if applicable, else.\n",
    "<br />characters (string) - the name of the character played if applicable, else.\n",
    "<br/><br/>\n",
    "**<br />title.ratings.tsv.gz – Contains the IMDb rating and votes information for titles:**\n",
    "<br />tconst (string) - alphanumeric unique identifier of the title.\n",
    "<br />averageRating – weighted average of all the individual user ratings.\n",
    "<br />numVotes - number of votes the title has received."
   ]
  },
  {
   "cell_type": "markdown",
   "id": "374c1ec3",
   "metadata": {},
   "source": [
    "# PART 1 - Installation and Initial Setup"
   ]
  },
  {
   "cell_type": "markdown",
   "id": "1b2af318",
   "metadata": {},
   "source": [
    "Begin by installing the necessary libraries that you may need to conduct your analysis. At the very least, you must install pandas and matplotlib"
   ]
  },
  {
   "cell_type": "code",
   "execution_count": 74,
   "id": "44a50bee",
   "metadata": {},
   "outputs": [
    {
     "data": {
      "application/vnd.jupyter.widget-view+json": {
       "model_id": "07996d1bb306487aaf41f6a451bb9fc3",
       "version_major": 2,
       "version_minor": 0
      },
      "text/plain": [
       "VBox()"
      ]
     },
     "metadata": {},
     "output_type": "display_data"
    },
    {
     "data": {
      "application/vnd.jupyter.widget-view+json": {
       "model_id": "",
       "version_major": 2,
       "version_minor": 0
      },
      "text/plain": [
       "FloatProgress(value=0.0, bar_style='info', description='Progress:', layout=Layout(height='25px', width='50%'),…"
      ]
     },
     "metadata": {},
     "output_type": "display_data"
    },
    {
     "name": "stderr",
     "output_type": "stream",
     "text": [
      "Package already installed for current Spark context!\n",
      "Traceback (most recent call last):\n",
      "  File \"/usr/lib/spark/python/lib/pyspark.zip/pyspark/context.py\", line 1110, in install_pypi_package\n",
      "    raise ValueError(\"Package already installed for current Spark context!\")\n",
      "ValueError: Package already installed for current Spark context!\n",
      "\n"
     ]
    }
   ],
   "source": [
    "sc.install_pypi_package(\"pandas==1.0.3\")"
   ]
  },
  {
   "cell_type": "code",
   "execution_count": 2,
   "id": "bc3269b0",
   "metadata": {},
   "outputs": [
    {
     "data": {
      "application/vnd.jupyter.widget-view+json": {
       "model_id": "b11680d3bb884f01837a31123d41a805",
       "version_major": 2,
       "version_minor": 0
      },
      "text/plain": [
       "VBox()"
      ]
     },
     "metadata": {},
     "output_type": "display_data"
    },
    {
     "data": {
      "application/vnd.jupyter.widget-view+json": {
       "model_id": "",
       "version_major": 2,
       "version_minor": 0
      },
      "text/plain": [
       "FloatProgress(value=0.0, bar_style='info', description='Progress:', layout=Layout(height='25px', width='50%'),…"
      ]
     },
     "metadata": {},
     "output_type": "display_data"
    },
    {
     "name": "stdout",
     "output_type": "stream",
     "text": [
      "Collecting matplotlib==3.2.1\n",
      "  Downloading https://files.pythonhosted.org/packages/b2/c2/71fcf957710f3ba1f09088b35776a799ba7dd95f7c2b195ec800933b276b/matplotlib-3.2.1-cp37-cp37m-manylinux1_x86_64.whl (12.4MB)\n",
      "Requirement already satisfied: python-dateutil>=2.1 in /mnt/tmp/1669572000699-0/lib/python3.7/site-packages (from matplotlib==3.2.1)\n",
      "Collecting pyparsing!=2.0.4,!=2.1.2,!=2.1.6,>=2.0.1 (from matplotlib==3.2.1)\n",
      "  Downloading https://files.pythonhosted.org/packages/6c/10/a7d0fa5baea8fe7b50f448ab742f26f52b80bfca85ac2be9d35cdd9a3246/pyparsing-3.0.9-py3-none-any.whl (98kB)\n",
      "Collecting cycler>=0.10 (from matplotlib==3.2.1)\n",
      "  Downloading https://files.pythonhosted.org/packages/5c/f9/695d6bedebd747e5eb0fe8fad57b72fdf25411273a39791cde838d5a8f51/cycler-0.11.0-py3-none-any.whl\n",
      "Requirement already satisfied: numpy>=1.11 in /usr/local/lib64/python3.7/site-packages (from matplotlib==3.2.1)\n",
      "Collecting kiwisolver>=1.0.1 (from matplotlib==3.2.1)\n",
      "  Downloading https://files.pythonhosted.org/packages/ab/8f/8dbe2d4efc4c0b08ec67d6efb7cc31fbfd688c80afad85f65980633b0d37/kiwisolver-1.4.4-cp37-cp37m-manylinux_2_5_x86_64.manylinux1_x86_64.whl (1.1MB)\n",
      "Requirement already satisfied: six>=1.5 in /usr/local/lib/python3.7/site-packages (from python-dateutil>=2.1->matplotlib==3.2.1)\n",
      "Collecting typing-extensions; python_version < \"3.8\" (from kiwisolver>=1.0.1->matplotlib==3.2.1)\n",
      "  Downloading https://files.pythonhosted.org/packages/0b/8e/f1a0a5a76cfef77e1eb6004cb49e5f8d72634da638420b9ea492ce8305e8/typing_extensions-4.4.0-py3-none-any.whl\n",
      "Installing collected packages: pyparsing, cycler, typing-extensions, kiwisolver, matplotlib\n",
      "Successfully installed cycler-0.11.0 kiwisolver-1.4.4 matplotlib-3.2.1 pyparsing-3.0.9 typing-extensions-4.4.0"
     ]
    }
   ],
   "source": [
    "sc.install_pypi_package(\"matplotlib==3.2.1\")"
   ]
  },
  {
   "cell_type": "markdown",
   "id": "28694305",
   "metadata": {},
   "source": [
    "Now, import the installed packages from the previous block below."
   ]
  },
  {
   "cell_type": "code",
   "execution_count": null,
   "id": "ef07911d",
   "metadata": {},
   "outputs": [],
   "source": [
    "import pandas as pd\n",
    "import matplotlib.pyplot as plt"
   ]
  },
  {
   "cell_type": "markdown",
   "id": "82dc408c",
   "metadata": {},
   "source": [
    "# Loading Data"
   ]
  },
  {
   "cell_type": "markdown",
   "id": "32705687",
   "metadata": {},
   "source": [
    "Load all data from S3 into a Spark dataframe object "
   ]
  },
  {
   "cell_type": "code",
   "execution_count": 4,
   "id": "d890593f",
   "metadata": {},
   "outputs": [
    {
     "data": {
      "application/vnd.jupyter.widget-view+json": {
       "model_id": "39a5fd8c2c4b4aa0b095069effba7921",
       "version_major": 2,
       "version_minor": 0
      },
      "text/plain": [
       "VBox()"
      ]
     },
     "metadata": {},
     "output_type": "display_data"
    },
    {
     "data": {
      "application/vnd.jupyter.widget-view+json": {
       "model_id": "",
       "version_major": 2,
       "version_minor": 0
      },
      "text/plain": [
       "FloatProgress(value=0.0, bar_style='info', description='Progress:', layout=Layout(height='25px', width='50%'),…"
      ]
     },
     "metadata": {},
     "output_type": "display_data"
    }
   ],
   "source": [
    "# The data comes from https://www.kaggle.com/datasets/ashirwadsangwan/imdb-dataset\n",
    "actors = spark.read.csv('s3://cis9760-lecture9-movieanalysis/name.basics.tsv', sep=r'\\t', header=True)\n",
    "genres = spark.read.csv('s3://cis9760-lecture9-movieanalysis/title.basics.tsv', sep=r'\\t', header=True)\n",
    "movie_actors = spark.read.csv('s3://cis9760-lecture9-movieanalysis/title.principals.tsv', sep=r'\\t', header=True)\n",
    "movie_ratings = spark.read.csv('s3://cis9760-lecture9-movieanalysis/title.ratings.tsv', sep=r'\\t', header=True)"
   ]
  },
  {
   "cell_type": "markdown",
   "id": "00559f9e",
   "metadata": {},
   "source": [
    "# Actors"
   ]
  },
  {
   "cell_type": "markdown",
   "id": "afb60131",
   "metadata": {},
   "source": [
    "Display the schema below:"
   ]
  },
  {
   "cell_type": "code",
   "execution_count": 6,
   "id": "800674ac",
   "metadata": {},
   "outputs": [
    {
     "data": {
      "application/vnd.jupyter.widget-view+json": {
       "model_id": "d295943980d84db9b8bbfb4f5eeb2f21",
       "version_major": 2,
       "version_minor": 0
      },
      "text/plain": [
       "VBox()"
      ]
     },
     "metadata": {},
     "output_type": "display_data"
    },
    {
     "data": {
      "application/vnd.jupyter.widget-view+json": {
       "model_id": "",
       "version_major": 2,
       "version_minor": 0
      },
      "text/plain": [
       "FloatProgress(value=0.0, bar_style='info', description='Progress:', layout=Layout(height='25px', width='50%'),…"
      ]
     },
     "metadata": {},
     "output_type": "display_data"
    },
    {
     "name": "stdout",
     "output_type": "stream",
     "text": [
      "root\n",
      " |-- nconst: string (nullable = true)\n",
      " |-- primaryName: string (nullable = true)\n",
      " |-- birthYear: string (nullable = true)\n",
      " |-- deathYear: string (nullable = true)\n",
      " |-- primaryProfession: string (nullable = true)\n",
      " |-- knownForTitles: string (nullable = true)"
     ]
    }
   ],
   "source": [
    "actors.printSchema()"
   ]
  },
  {
   "cell_type": "markdown",
   "id": "4023972a",
   "metadata": {},
   "source": [
    "Display the first 5 rows with the following columns:\n",
    "\n",
    "* `primaryName`\n",
    "* `birthYear`\n",
    "* `deathYear`\n",
    "* `knownForTitles`"
   ]
  },
  {
   "cell_type": "code",
   "execution_count": 7,
   "id": "a47c98e2",
   "metadata": {},
   "outputs": [
    {
     "data": {
      "application/vnd.jupyter.widget-view+json": {
       "model_id": "a13eb63fa7de44ed92a2cd850189e996",
       "version_major": 2,
       "version_minor": 0
      },
      "text/plain": [
       "VBox()"
      ]
     },
     "metadata": {},
     "output_type": "display_data"
    },
    {
     "data": {
      "application/vnd.jupyter.widget-view+json": {
       "model_id": "",
       "version_major": 2,
       "version_minor": 0
      },
      "text/plain": [
       "FloatProgress(value=0.0, bar_style='info', description='Progress:', layout=Layout(height='25px', width='50%'),…"
      ]
     },
     "metadata": {},
     "output_type": "display_data"
    },
    {
     "name": "stdout",
     "output_type": "stream",
     "text": [
      "+---------------+---------+---------+--------------------+\n",
      "|    primaryName|birthYear|deathYear|      knownForTitles|\n",
      "+---------------+---------+---------+--------------------+\n",
      "|   Fred Astaire|     1899|     1987|tt0050419,tt00531...|\n",
      "|  Lauren Bacall|     1924|     2014|tt0071877,tt01170...|\n",
      "|Brigitte Bardot|     1934|       \\N|tt0054452,tt00491...|\n",
      "|   John Belushi|     1949|     1982|tt0077975,tt00725...|\n",
      "| Ingmar Bergman|     1918|     2007|tt0069467,tt00509...|\n",
      "+---------------+---------+---------+--------------------+\n",
      "only showing top 5 rows"
     ]
    }
   ],
   "source": [
    "actors.select(\"primaryName\", \"birthYear\", \"deathYear\", \"knownForTitles\").show(5)"
   ]
  },
  {
   "cell_type": "markdown",
   "id": "f70a292b",
   "metadata": {},
   "source": [
    "# Genres"
   ]
  },
  {
   "cell_type": "markdown",
   "id": "29782a34",
   "metadata": {},
   "source": [
    "Display the first 10 rows with the following columns:\n",
    "    \n",
    "* `titleType`\n",
    "* `primaryTitle`\n",
    "* `genres`"
   ]
  },
  {
   "cell_type": "code",
   "execution_count": 8,
   "id": "5c3fbe73",
   "metadata": {},
   "outputs": [
    {
     "data": {
      "application/vnd.jupyter.widget-view+json": {
       "model_id": "22c1858618e04bcc8cddfcabc326b56d",
       "version_major": 2,
       "version_minor": 0
      },
      "text/plain": [
       "VBox()"
      ]
     },
     "metadata": {},
     "output_type": "display_data"
    },
    {
     "data": {
      "application/vnd.jupyter.widget-view+json": {
       "model_id": "",
       "version_major": 2,
       "version_minor": 0
      },
      "text/plain": [
       "FloatProgress(value=0.0, bar_style='info', description='Progress:', layout=Layout(height='25px', width='50%'),…"
      ]
     },
     "metadata": {},
     "output_type": "display_data"
    },
    {
     "name": "stdout",
     "output_type": "stream",
     "text": [
      "+---------+--------------------+--------------------+\n",
      "|titleType|        primaryTitle|              genres|\n",
      "+---------+--------------------+--------------------+\n",
      "|    short|          Carmencita|   Documentary,Short|\n",
      "|    short|Le clown et ses c...|     Animation,Short|\n",
      "|    short|      Pauvre Pierrot|Animation,Comedy,...|\n",
      "|    short|         Un bon bock|     Animation,Short|\n",
      "|    short|    Blacksmith Scene|        Comedy,Short|\n",
      "|    short|   Chinese Opium Den|               Short|\n",
      "|    short|Corbett and Court...|         Short,Sport|\n",
      "|    short|Edison Kinetoscop...|   Documentary,Short|\n",
      "|    movie|          Miss Jerry|             Romance|\n",
      "|    short| Exiting the Factory|   Documentary,Short|\n",
      "+---------+--------------------+--------------------+\n",
      "only showing top 10 rows"
     ]
    }
   ],
   "source": [
    "genres.select(\"titleType\", \"primaryTitle\", \"genres\").show(10)"
   ]
  },
  {
   "cell_type": "markdown",
   "id": "4d32c67e",
   "metadata": {},
   "source": [
    "Display the unique categories below:"
   ]
  },
  {
   "cell_type": "code",
   "execution_count": 9,
   "id": "d8588a1b",
   "metadata": {},
   "outputs": [
    {
     "data": {
      "application/vnd.jupyter.widget-view+json": {
       "model_id": "9dd8f8492f5b408c83104622810b1a53",
       "version_major": 2,
       "version_minor": 0
      },
      "text/plain": [
       "VBox()"
      ]
     },
     "metadata": {},
     "output_type": "display_data"
    },
    {
     "data": {
      "application/vnd.jupyter.widget-view+json": {
       "model_id": "",
       "version_major": 2,
       "version_minor": 0
      },
      "text/plain": [
       "FloatProgress(value=0.0, bar_style='info', description='Progress:', layout=Layout(height='25px', width='50%'),…"
      ]
     },
     "metadata": {},
     "output_type": "display_data"
    },
    {
     "name": "stdout",
     "output_type": "stream",
     "text": [
      "+------------+\n",
      "|   titleType|\n",
      "+------------+\n",
      "|    tvSeries|\n",
      "|tvMiniSeries|\n",
      "|       movie|\n",
      "|   videoGame|\n",
      "|   tvSpecial|\n",
      "|       video|\n",
      "|     tvMovie|\n",
      "|   tvEpisode|\n",
      "|     tvShort|\n",
      "|       short|\n",
      "+------------+"
     ]
    }
   ],
   "source": [
    "genres.select(\"titleType\").distinct().show()"
   ]
  },
  {
   "cell_type": "markdown",
   "id": "7634f9da",
   "metadata": {},
   "source": [
    "Display the schema below:"
   ]
  },
  {
   "cell_type": "code",
   "execution_count": 10,
   "id": "9e244cff",
   "metadata": {},
   "outputs": [
    {
     "data": {
      "application/vnd.jupyter.widget-view+json": {
       "model_id": "de6b3989e5e74e7bb016e879c30cc5dc",
       "version_major": 2,
       "version_minor": 0
      },
      "text/plain": [
       "VBox()"
      ]
     },
     "metadata": {},
     "output_type": "display_data"
    },
    {
     "data": {
      "application/vnd.jupyter.widget-view+json": {
       "model_id": "",
       "version_major": 2,
       "version_minor": 0
      },
      "text/plain": [
       "FloatProgress(value=0.0, bar_style='info', description='Progress:', layout=Layout(height='25px', width='50%'),…"
      ]
     },
     "metadata": {},
     "output_type": "display_data"
    },
    {
     "name": "stdout",
     "output_type": "stream",
     "text": [
      "root\n",
      " |-- tconst: string (nullable = true)\n",
      " |-- titleType: string (nullable = true)\n",
      " |-- primaryTitle: string (nullable = true)\n",
      " |-- originalTitle: string (nullable = true)\n",
      " |-- isAdult: string (nullable = true)\n",
      " |-- startYear: string (nullable = true)\n",
      " |-- endYear: string (nullable = true)\n",
      " |-- runtimeMinutes: string (nullable = true)\n",
      " |-- genres: string (nullable = true)"
     ]
    }
   ],
   "source": [
    "genres.printSchema()"
   ]
  },
  {
   "cell_type": "markdown",
   "id": "dd704363",
   "metadata": {},
   "source": [
    "# Movie Actors"
   ]
  },
  {
   "cell_type": "markdown",
   "id": "74b3e19c",
   "metadata": {},
   "source": [
    "Display the schema below:"
   ]
  },
  {
   "cell_type": "code",
   "execution_count": 11,
   "id": "4d1f8f02",
   "metadata": {},
   "outputs": [
    {
     "data": {
      "application/vnd.jupyter.widget-view+json": {
       "model_id": "8827cd4a80024d26bea6da3ba0457e3c",
       "version_major": 2,
       "version_minor": 0
      },
      "text/plain": [
       "VBox()"
      ]
     },
     "metadata": {},
     "output_type": "display_data"
    },
    {
     "data": {
      "application/vnd.jupyter.widget-view+json": {
       "model_id": "",
       "version_major": 2,
       "version_minor": 0
      },
      "text/plain": [
       "FloatProgress(value=0.0, bar_style='info', description='Progress:', layout=Layout(height='25px', width='50%'),…"
      ]
     },
     "metadata": {},
     "output_type": "display_data"
    },
    {
     "name": "stdout",
     "output_type": "stream",
     "text": [
      "root\n",
      " |-- tconst: string (nullable = true)\n",
      " |-- ordering: string (nullable = true)\n",
      " |-- nconst: string (nullable = true)\n",
      " |-- category: string (nullable = true)\n",
      " |-- job: string (nullable = true)\n",
      " |-- characters: string (nullable = true)"
     ]
    }
   ],
   "source": [
    "movie_actors.printSchema()"
   ]
  },
  {
   "cell_type": "markdown",
   "id": "d1cc2963",
   "metadata": {},
   "source": [
    "Display the first 10 rows below:"
   ]
  },
  {
   "cell_type": "code",
   "execution_count": 12,
   "id": "01c3192f",
   "metadata": {},
   "outputs": [
    {
     "data": {
      "application/vnd.jupyter.widget-view+json": {
       "model_id": "9f9622b78e584f4888b88308aa7a4c86",
       "version_major": 2,
       "version_minor": 0
      },
      "text/plain": [
       "VBox()"
      ]
     },
     "metadata": {},
     "output_type": "display_data"
    },
    {
     "data": {
      "application/vnd.jupyter.widget-view+json": {
       "model_id": "",
       "version_major": 2,
       "version_minor": 0
      },
      "text/plain": [
       "FloatProgress(value=0.0, bar_style='info', description='Progress:', layout=Layout(height='25px', width='50%'),…"
      ]
     },
     "metadata": {},
     "output_type": "display_data"
    },
    {
     "name": "stdout",
     "output_type": "stream",
     "text": [
      "+---------+--------+---------+---------------+--------------------+-----------+\n",
      "|   tconst|ordering|   nconst|       category|                 job| characters|\n",
      "+---------+--------+---------+---------------+--------------------+-----------+\n",
      "|tt0000001|       1|nm1588970|           self|                  \\N|[\"Herself\"]|\n",
      "|tt0000001|       2|nm0005690|       director|                  \\N|         \\N|\n",
      "|tt0000001|       3|nm0374658|cinematographer|director of photo...|         \\N|\n",
      "|tt0000002|       1|nm0721526|       director|                  \\N|         \\N|\n",
      "|tt0000002|       2|nm1335271|       composer|                  \\N|         \\N|\n",
      "|tt0000003|       1|nm0721526|       director|                  \\N|         \\N|\n",
      "|tt0000003|       2|nm5442194|       producer|            producer|         \\N|\n",
      "|tt0000003|       3|nm1335271|       composer|                  \\N|         \\N|\n",
      "|tt0000003|       4|nm5442200|         editor|                  \\N|         \\N|\n",
      "|tt0000004|       1|nm0721526|       director|                  \\N|         \\N|\n",
      "+---------+--------+---------+---------------+--------------------+-----------+\n",
      "only showing top 10 rows"
     ]
    }
   ],
   "source": [
    "movie_actors.show(10)"
   ]
  },
  {
   "cell_type": "markdown",
   "id": "c2cdd8e4",
   "metadata": {},
   "source": [
    "# Movie Ratings"
   ]
  },
  {
   "cell_type": "markdown",
   "id": "184ba1d8",
   "metadata": {},
   "source": [
    "Display the schema below:"
   ]
  },
  {
   "cell_type": "code",
   "execution_count": 13,
   "id": "12aec971",
   "metadata": {},
   "outputs": [
    {
     "data": {
      "application/vnd.jupyter.widget-view+json": {
       "model_id": "ee5f107391584b8eb7bbb3ccbe840634",
       "version_major": 2,
       "version_minor": 0
      },
      "text/plain": [
       "VBox()"
      ]
     },
     "metadata": {},
     "output_type": "display_data"
    },
    {
     "data": {
      "application/vnd.jupyter.widget-view+json": {
       "model_id": "",
       "version_major": 2,
       "version_minor": 0
      },
      "text/plain": [
       "FloatProgress(value=0.0, bar_style='info', description='Progress:', layout=Layout(height='25px', width='50%'),…"
      ]
     },
     "metadata": {},
     "output_type": "display_data"
    },
    {
     "name": "stdout",
     "output_type": "stream",
     "text": [
      "root\n",
      " |-- tconst: string (nullable = true)\n",
      " |-- averageRating: string (nullable = true)\n",
      " |-- numVotes: string (nullable = true)"
     ]
    }
   ],
   "source": [
    "movie_ratings.printSchema()"
   ]
  },
  {
   "cell_type": "markdown",
   "id": "abc3c9c7",
   "metadata": {},
   "source": [
    "Display the first 10 rows in a descending order by the number of votes"
   ]
  },
  {
   "cell_type": "code",
   "execution_count": 14,
   "id": "3fa60d58",
   "metadata": {},
   "outputs": [
    {
     "data": {
      "application/vnd.jupyter.widget-view+json": {
       "model_id": "d6971b0f66c94b64a07efa730dbd37ab",
       "version_major": 2,
       "version_minor": 0
      },
      "text/plain": [
       "VBox()"
      ]
     },
     "metadata": {},
     "output_type": "display_data"
    },
    {
     "data": {
      "application/vnd.jupyter.widget-view+json": {
       "model_id": "",
       "version_major": 2,
       "version_minor": 0
      },
      "text/plain": [
       "FloatProgress(value=0.0, bar_style='info', description='Progress:', layout=Layout(height='25px', width='50%'),…"
      ]
     },
     "metadata": {},
     "output_type": "display_data"
    },
    {
     "name": "stdout",
     "output_type": "stream",
     "text": [
      "+---------+-------------+--------+\n",
      "|   tconst|averageRating|numVotes|\n",
      "+---------+-------------+--------+\n",
      "|tt7430722|          6.8|    9999|\n",
      "|tt4445154|          8.1|    9997|\n",
      "|tt2229907|          6.3|    9996|\n",
      "|tt0294097|          8.0|    9994|\n",
      "|tt0264734|          6.5|    9993|\n",
      "|tt2032572|          5.2|    9991|\n",
      "|tt8860450|          6.3|    9991|\n",
      "|tt3244036|          8.3|     999|\n",
      "|tt1739480|          6.9|     999|\n",
      "|tt1859607|          5.3|     999|\n",
      "+---------+-------------+--------+\n",
      "only showing top 10 rows"
     ]
    }
   ],
   "source": [
    "from pyspark.sql.functions import col\n",
    "movie_ratings.sort(col(\"numVotes\").desc()).show(10)"
   ]
  },
  {
   "cell_type": "markdown",
   "id": "0bf80638",
   "metadata": {},
   "source": [
    "# Overview of Data"
   ]
  },
  {
   "cell_type": "markdown",
   "id": "137dca92",
   "metadata": {},
   "source": [
    "Display the number of rows and columns in each dataFrame object."
   ]
  },
  {
   "cell_type": "code",
   "execution_count": 14,
   "id": "178d10c1",
   "metadata": {},
   "outputs": [
    {
     "data": {
      "application/vnd.jupyter.widget-view+json": {
       "model_id": "2380b1b26f6e459aa4829f315b0386d7",
       "version_major": 2,
       "version_minor": 0
      },
      "text/plain": [
       "VBox()"
      ]
     },
     "metadata": {},
     "output_type": "display_data"
    },
    {
     "data": {
      "application/vnd.jupyter.widget-view+json": {
       "model_id": "",
       "version_major": 2,
       "version_minor": 0
      },
      "text/plain": [
       "FloatProgress(value=0.0, bar_style='info', description='Progress:', layout=Layout(height='25px', width='50%'),…"
      ]
     },
     "metadata": {},
     "output_type": "display_data"
    },
    {
     "name": "stdout",
     "output_type": "stream",
     "text": [
      "Number of Columns in Actors table: 6\n",
      "Number of Rows in Actors table: 9706922\n",
      "Number of Columns in Genres table: 9\n",
      "Number of Rows in Genres table: 6321302\n",
      "Number of Columns in Movie Actors table: 6\n",
      "Number of Rows in Movie Actors table: 36468817\n",
      "Number of Columns in Movie Ratings table: 3\n",
      "Number of Rows in Movie Ratings table: 993153"
     ]
    }
   ],
   "source": [
    "row = actors.count()\n",
    "col = len(actors.columns)\n",
    "print(f'Number of Columns in Actors table: {col}')\n",
    "print(f'Number of Rows in Actors table: {row}') \n",
    "\n",
    "row = genres.count()\n",
    "col = len(genres.columns)\n",
    "print(f'Number of Columns in Genres table: {col}')\n",
    "print(f'Number of Rows in Genres table: {row}')  \n",
    "\n",
    "row = movie_actors.count()\n",
    "col = len(movie_actors.columns)\n",
    "print(f'Number of Columns in Movie Actors table: {col}')\n",
    "print(f'Number of Rows in Movie Actors table: {row}')\n",
    "\n",
    "row = movie_ratings.count()\n",
    "col = len(movie_ratings.columns)\n",
    "print(f'Number of Columns in Movie Ratings table: {col}')\n",
    "print(f'Number of Rows in Movie Ratings table: {row}')"
   ]
  },
  {
   "cell_type": "markdown",
   "id": "31f83f84",
   "metadata": {},
   "source": [
    "# Part 2 - Analyzing Genres"
   ]
  },
  {
   "cell_type": "markdown",
   "id": "dd41029a",
   "metadata": {},
   "source": [
    "Let's now answer this question: how many unique genres are represented in this dataset?\n",
    "\n",
    "Essentially, we have the genres per movie as a list - this is useful to quickly see what each movie might be represented as but it is difficult to easily answer questions such as:\n",
    "\n",
    "* How many movies are categorized as Comedy, for instance?\n",
    "* What are the top 20 most popular genres available?"
   ]
  },
  {
   "cell_type": "markdown",
   "id": "6b790d35",
   "metadata": {},
   "source": [
    "# Association Table"
   ]
  },
  {
   "cell_type": "markdown",
   "id": "c86d5d42",
   "metadata": {},
   "source": [
    "We need to \"break out\" these genres from the tconst? One common approach to take is to build an association table mapping a single tconst multiple times to each distinct genre.\n",
    "\n",
    "For instance, given the following:\n",
    "\n",
    "\n",
    "| tconst   | titleType  |genres |\n",
    "|----------|------------|-------|\n",
    "| abcd123  | XXX        |a,b,c  |\n",
    "\n",
    "We would like to derive something like:\n",
    "\n",
    "| tconst   |  titleType |genre |\n",
    "|----------|------------|------|\n",
    "| abcd123  | XXX        |a     |\n",
    "| abcd123  | XXX        |b     |\n",
    "| abcd123  | XXX        |c     |\n",
    "\n",
    "\n",
    "What this does is allow us to then perform a myriad of rollups and other analysis on this association table which can aid us in answering the questions asked above.\n",
    "\n",
    "Implement the code necessary to derive the table described from the data set"
   ]
  },
  {
   "cell_type": "code",
   "execution_count": 15,
   "id": "b4ab2bac",
   "metadata": {},
   "outputs": [
    {
     "data": {
      "application/vnd.jupyter.widget-view+json": {
       "model_id": "a6fe6811c08c4b73bd06144e68ba0c68",
       "version_major": 2,
       "version_minor": 0
      },
      "text/plain": [
       "VBox()"
      ]
     },
     "metadata": {},
     "output_type": "display_data"
    },
    {
     "data": {
      "application/vnd.jupyter.widget-view+json": {
       "model_id": "",
       "version_major": 2,
       "version_minor": 0
      },
      "text/plain": [
       "FloatProgress(value=0.0, bar_style='info', description='Progress:', layout=Layout(height='25px', width='50%'),…"
      ]
     },
     "metadata": {},
     "output_type": "display_data"
    },
    {
     "name": "stdout",
     "output_type": "stream",
     "text": [
      "+---------+---------+--------------------+\n",
      "|   tconst|titleType|              genres|\n",
      "+---------+---------+--------------------+\n",
      "|tt0000001|    short|   Documentary,Short|\n",
      "|tt0000002|    short|     Animation,Short|\n",
      "|tt0000003|    short|Animation,Comedy,...|\n",
      "|tt0000004|    short|     Animation,Short|\n",
      "|tt0000005|    short|        Comedy,Short|\n",
      "+---------+---------+--------------------+\n",
      "only showing top 5 rows"
     ]
    }
   ],
   "source": [
    "genres.select(\"tconst\", \"titleType\", \"genres\").show(5)"
   ]
  },
  {
   "cell_type": "code",
   "execution_count": 16,
   "id": "956e531d",
   "metadata": {},
   "outputs": [
    {
     "data": {
      "application/vnd.jupyter.widget-view+json": {
       "model_id": "7962be014574485d8abf4c44edfd42c7",
       "version_major": 2,
       "version_minor": 0
      },
      "text/plain": [
       "VBox()"
      ]
     },
     "metadata": {},
     "output_type": "display_data"
    },
    {
     "data": {
      "application/vnd.jupyter.widget-view+json": {
       "model_id": "",
       "version_major": 2,
       "version_minor": 0
      },
      "text/plain": [
       "FloatProgress(value=0.0, bar_style='info', description='Progress:', layout=Layout(height='25px', width='50%'),…"
      ]
     },
     "metadata": {},
     "output_type": "display_data"
    },
    {
     "name": "stdout",
     "output_type": "stream",
     "text": [
      "+---------+---------+-----------+\n",
      "|   tconst|titleType|     genres|\n",
      "+---------+---------+-----------+\n",
      "|tt0000001|    short|Documentary|\n",
      "|tt0000001|    short|      Short|\n",
      "|tt0000002|    short|  Animation|\n",
      "|tt0000002|    short|      Short|\n",
      "|tt0000003|    short|  Animation|\n",
      "|tt0000003|    short|     Comedy|\n",
      "|tt0000003|    short|    Romance|\n",
      "|tt0000004|    short|  Animation|\n",
      "|tt0000004|    short|      Short|\n",
      "|tt0000005|    short|     Comedy|\n",
      "+---------+---------+-----------+\n",
      "only showing top 10 rows"
     ]
    }
   ],
   "source": [
    "from pyspark.sql.functions import split, col, explode\n",
    "\n",
    "# pyspark.sql.functions.explode(col) Returns a new row for each element in the given array or map. \n",
    "\n",
    "genres.select(\"tconst\", \"titleType\", \"genres\").withColumn(\"genres\",explode(split(\"genres\",\",\"))).show(10)"
   ]
  },
  {
   "cell_type": "markdown",
   "id": "bce3acd3",
   "metadata": {},
   "source": [
    "# Total unique Genres"
   ]
  },
  {
   "cell_type": "markdown",
   "id": "077b9404",
   "metadata": {},
   "source": [
    "**What is the total number of unique genres available in the movie category?**"
   ]
  },
  {
   "cell_type": "code",
   "execution_count": 17,
   "id": "e733cbd5",
   "metadata": {},
   "outputs": [
    {
     "data": {
      "application/vnd.jupyter.widget-view+json": {
       "model_id": "cdd7ad26c5564c5ca6a9306ba0fd67f6",
       "version_major": 2,
       "version_minor": 0
      },
      "text/plain": [
       "VBox()"
      ]
     },
     "metadata": {},
     "output_type": "display_data"
    },
    {
     "data": {
      "application/vnd.jupyter.widget-view+json": {
       "model_id": "",
       "version_major": 2,
       "version_minor": 0
      },
      "text/plain": [
       "FloatProgress(value=0.0, bar_style='info', description='Progress:', layout=Layout(height='25px', width='50%'),…"
      ]
     },
     "metadata": {},
     "output_type": "display_data"
    },
    {
     "name": "stdout",
     "output_type": "stream",
     "text": [
      "1429"
     ]
    }
   ],
   "source": [
    "genres.filter(genres.titleType == \"movie\").select(\"genres\").distinct().count()"
   ]
  },
  {
   "cell_type": "markdown",
   "id": "d1832ed6",
   "metadata": {},
   "source": [
    "**What are the unique genres available?**"
   ]
  },
  {
   "cell_type": "code",
   "execution_count": 18,
   "id": "2e6567b4",
   "metadata": {},
   "outputs": [
    {
     "data": {
      "application/vnd.jupyter.widget-view+json": {
       "model_id": "bf5672b11b424d59aa4d18fc60e920ba",
       "version_major": 2,
       "version_minor": 0
      },
      "text/plain": [
       "VBox()"
      ]
     },
     "metadata": {},
     "output_type": "display_data"
    },
    {
     "data": {
      "application/vnd.jupyter.widget-view+json": {
       "model_id": "",
       "version_major": 2,
       "version_minor": 0
      },
      "text/plain": [
       "FloatProgress(value=0.0, bar_style='info', description='Progress:', layout=Layout(height='25px', width='50%'),…"
      ]
     },
     "metadata": {},
     "output_type": "display_data"
    },
    {
     "name": "stdout",
     "output_type": "stream",
     "text": [
      "+-----------+\n",
      "|     genres|\n",
      "+-----------+\n",
      "|    Mystery|\n",
      "|    Musical|\n",
      "|      Sport|\n",
      "|     Action|\n",
      "|  Talk-Show|\n",
      "|    Romance|\n",
      "|   Thriller|\n",
      "|         \\N|\n",
      "| Reality-TV|\n",
      "|     Family|\n",
      "|    Fantasy|\n",
      "|    History|\n",
      "|  Animation|\n",
      "|      Short|\n",
      "|  Film-Noir|\n",
      "|     Sci-Fi|\n",
      "|       News|\n",
      "|      Drama|\n",
      "|Documentary|\n",
      "|    Western|\n",
      "+-----------+\n",
      "only showing top 20 rows"
     ]
    }
   ],
   "source": [
    "genres.select('genres').withColumn('genres',explode(split(\"genres\",\",\"))).distinct().show(20)"
   ]
  },
  {
   "cell_type": "markdown",
   "id": "6a6660b0",
   "metadata": {},
   "source": [
    "**Oops! Something is off!**"
   ]
  },
  {
   "cell_type": "code",
   "execution_count": 19,
   "id": "40b787c1",
   "metadata": {},
   "outputs": [
    {
     "data": {
      "application/vnd.jupyter.widget-view+json": {
       "model_id": "a1193dd41fb14cd7b37b78cd74110061",
       "version_major": 2,
       "version_minor": 0
      },
      "text/plain": [
       "VBox()"
      ]
     },
     "metadata": {},
     "output_type": "display_data"
    },
    {
     "data": {
      "application/vnd.jupyter.widget-view+json": {
       "model_id": "",
       "version_major": 2,
       "version_minor": 0
      },
      "text/plain": [
       "FloatProgress(value=0.0, bar_style='info', description='Progress:', layout=Layout(height='25px', width='50%'),…"
      ]
     },
     "metadata": {},
     "output_type": "display_data"
    },
    {
     "name": "stdout",
     "output_type": "stream",
     "text": [
      "+-----------+\n",
      "|     genres|\n",
      "+-----------+\n",
      "|    Mystery|\n",
      "|    Musical|\n",
      "|      Sport|\n",
      "|     Action|\n",
      "|  Talk-Show|\n",
      "|    Romance|\n",
      "|   Thriller|\n",
      "| Reality-TV|\n",
      "|     Family|\n",
      "|    Fantasy|\n",
      "|    History|\n",
      "|  Animation|\n",
      "|  Film-Noir|\n",
      "|      Short|\n",
      "|     Sci-Fi|\n",
      "|       News|\n",
      "|      Drama|\n",
      "|Documentary|\n",
      "|    Western|\n",
      "|     Comedy|\n",
      "+-----------+\n",
      "only showing top 20 rows"
     ]
    }
   ],
   "source": [
    "from pyspark.sql.functions import col\n",
    "nll = '\\\\N'\n",
    "genres.select(\"genres\").withColumn('genres',explode(split(\"genres\",\",\"))).distinct().filter(col(\"genres\") != nll).show(20)"
   ]
  },
  {
   "cell_type": "code",
   "execution_count": 20,
   "id": "73c40c2b",
   "metadata": {},
   "outputs": [
    {
     "data": {
      "application/vnd.jupyter.widget-view+json": {
       "model_id": "7fc58db1efdb4ce8a360363930dfed05",
       "version_major": 2,
       "version_minor": 0
      },
      "text/plain": [
       "VBox()"
      ]
     },
     "metadata": {},
     "output_type": "display_data"
    },
    {
     "data": {
      "application/vnd.jupyter.widget-view+json": {
       "model_id": "",
       "version_major": 2,
       "version_minor": 0
      },
      "text/plain": [
       "FloatProgress(value=0.0, bar_style='info', description='Progress:', layout=Layout(height='25px', width='50%'),…"
      ]
     },
     "metadata": {},
     "output_type": "display_data"
    },
    {
     "name": "stdout",
     "output_type": "stream",
     "text": [
      "28"
     ]
    }
   ],
   "source": [
    "from pyspark.sql.functions import col\n",
    "nll = '\\\\N'\n",
    "genres.select(\"genres\").withColumn('genres',explode(split(\"genres\",\",\"))).distinct().filter(col(\"genres\") != nll).count()"
   ]
  },
  {
   "cell_type": "markdown",
   "id": "9aed0aa3",
   "metadata": {},
   "source": [
    "# Top Genres by Movies\n",
    "\n",
    "Now let's find the highest rated genres in this dataset by rolling up genres."
   ]
  },
  {
   "cell_type": "markdown",
   "id": "4f896b58",
   "metadata": {},
   "source": [
    "# Average Rating / Genre"
   ]
  },
  {
   "cell_type": "markdown",
   "id": "bd7dcc13",
   "metadata": {},
   "source": [
    "So now, let's unroll our distinct count a bit and display the per average rating value of per genre.\n",
    "\n",
    "The expected output should be:\n",
    "\n",
    "| genre | averageRating |\n",
    "|-------------|------------|\n",
    "| a     | 8.5         |\n",
    "| b     | 6.3         |\n",
    "| c     | 7.2         |\n",
    "\n",
    "Or something to that effect."
   ]
  },
  {
   "cell_type": "markdown",
   "id": "6100505a",
   "metadata": {},
   "source": [
    "First, let's join our two dataframes(movie ratings and genres) by tconst"
   ]
  },
  {
   "cell_type": "code",
   "execution_count": 34,
   "id": "bde18ccb",
   "metadata": {},
   "outputs": [
    {
     "data": {
      "application/vnd.jupyter.widget-view+json": {
       "model_id": "dc3ad56c87014819ad283afc1ef0683f",
       "version_major": 2,
       "version_minor": 0
      },
      "text/plain": [
       "VBox()"
      ]
     },
     "metadata": {},
     "output_type": "display_data"
    },
    {
     "data": {
      "application/vnd.jupyter.widget-view+json": {
       "model_id": "",
       "version_major": 2,
       "version_minor": 0
      },
      "text/plain": [
       "FloatProgress(value=0.0, bar_style='info', description='Progress:', layout=Layout(height='25px', width='50%'),…"
      ]
     },
     "metadata": {},
     "output_type": "display_data"
    },
    {
     "name": "stdout",
     "output_type": "stream",
     "text": [
      "+---------+-------------+\n",
      "|   genres|averageRating|\n",
      "+---------+-------------+\n",
      "|    Drama|          4.2|\n",
      "|    Drama|          4.2|\n",
      "|Biography|          4.1|\n",
      "|    Drama|          4.1|\n",
      "|  History|          4.1|\n",
      "|    Drama|          5.7|\n",
      "|    Drama|          4.6|\n",
      "|  History|          4.6|\n",
      "|Biography|          6.3|\n",
      "|    Drama|          6.3|\n",
      "+---------+-------------+\n",
      "only showing top 10 rows"
     ]
    }
   ],
   "source": [
    "nll = '\\\\N'\n",
    "genre_avg_rating = genres.join(movie_ratings, on = [\"tconst\"], how = \"inner\") \\\n",
    "                    .withColumn(\"genres\", explode(split('genres', \",\"))) \\\n",
    "                    .where(genres.titleType == \"movie\") \\\n",
    "                    .filter(col(\"genres\")!= nll)\n",
    "genre_avg_rating.select(\"genres\", \"averageRating\").show(10)"
   ]
  },
  {
   "cell_type": "markdown",
   "id": "e6df055a",
   "metadata": {},
   "source": [
    "Now, let's aggregate along the averageRating column to get a resultant dataframe that displays average rating per genre."
   ]
  },
  {
   "cell_type": "code",
   "execution_count": 35,
   "id": "9dd2e56f",
   "metadata": {},
   "outputs": [
    {
     "data": {
      "application/vnd.jupyter.widget-view+json": {
       "model_id": "d126e247f9754bbf98c8916321da8383",
       "version_major": 2,
       "version_minor": 0
      },
      "text/plain": [
       "VBox()"
      ]
     },
     "metadata": {},
     "output_type": "display_data"
    },
    {
     "data": {
      "application/vnd.jupyter.widget-view+json": {
       "model_id": "",
       "version_major": 2,
       "version_minor": 0
      },
      "text/plain": [
       "FloatProgress(value=0.0, bar_style='info', description='Progress:', layout=Layout(height='25px', width='50%'),…"
      ]
     },
     "metadata": {},
     "output_type": "display_data"
    },
    {
     "name": "stdout",
     "output_type": "stream",
     "text": [
      "+-----------+------------------+\n",
      "|     genres|avg(averageRating)|\n",
      "+-----------+------------------+\n",
      "|    Mystery| 5.940437535981576|\n",
      "|    Musical|6.2032460545193695|\n",
      "|     Action|  5.71873406966865|\n",
      "|      Sport| 6.600145190562612|\n",
      "|  Talk-Show|               5.8|\n",
      "|    Romance| 6.125714180397362|\n",
      "|   Thriller|5.6259675664473345|\n",
      "| Reality-TV| 6.379310344827585|\n",
      "|     Family| 6.250560452715202|\n",
      "|    Fantasy| 5.924820762833381|\n",
      "|    History| 6.822718115605145|\n",
      "|  Animation| 6.326203750633554|\n",
      "|  Film-Noir| 6.636246786632392|\n",
      "|      Short|              7.26|\n",
      "|     Sci-Fi| 5.325150008571917|\n",
      "|       News|7.2009160305343505|\n",
      "|      Drama| 6.288080210387904|\n",
      "|Documentary| 7.245469798657718|\n",
      "|    Western| 5.948970989337961|\n",
      "|     Comedy| 5.941363108004129|\n",
      "+-----------+------------------+\n",
      "only showing top 20 rows"
     ]
    }
   ],
   "source": [
    "from pyspark.sql.functions import avg, mean, count, sum, col, max\n",
    "nll = '\\\\N'\n",
    "genre_and_avgrating = genres.join(movie_ratings, on = [\"tconst\"], how = \"inner\") \\\n",
    "                            .withColumn(\"genres\", explode(split('genres', \",\"))) \\\n",
    "                            .where(genres.titleType == \"movie\") \\\n",
    "                            .filter(col(\"genres\")!= nll)\\\n",
    "                            .groupBy(\"genres\").agg(avg(\"averageRating\")).alias(\"avg_rating\")\n",
    "genre_and_avgrating.show(20)"
   ]
  },
  {
   "cell_type": "markdown",
   "id": "64f8e1c4",
   "metadata": {},
   "source": [
    "### Horizontal Bar Chart of Top Genres\n",
    "\n",
    "With this data available, let us now build a barchart of all genres \n",
    "\n",
    "**HINT**: don't forget about the matplotlib magic!\n",
    "\n",
    "```\n",
    "%matplot plt\n",
    "```"
   ]
  },
  {
   "cell_type": "code",
   "execution_count": 36,
   "id": "6654e9fd",
   "metadata": {},
   "outputs": [
    {
     "data": {
      "application/vnd.jupyter.widget-view+json": {
       "model_id": "5db56b7d1035444bbdf4f53d98f6a29c",
       "version_major": 2,
       "version_minor": 0
      },
      "text/plain": [
       "VBox()"
      ]
     },
     "metadata": {},
     "output_type": "display_data"
    },
    {
     "data": {
      "application/vnd.jupyter.widget-view+json": {
       "model_id": "",
       "version_major": 2,
       "version_minor": 0
      },
      "text/plain": [
       "FloatProgress(value=0.0, bar_style='info', description='Progress:', layout=Layout(height='25px', width='50%'),…"
      ]
     },
     "metadata": {},
     "output_type": "display_data"
    },
    {
     "name": "stdout",
     "output_type": "stream",
     "text": [
      "+-----------+------------------+\n",
      "|     genres|avg(averageRating)|\n",
      "+-----------+------------------+\n",
      "|      Short|              7.26|\n",
      "|Documentary| 7.245469798657718|\n",
      "|       News|7.2009160305343505|\n",
      "|  Biography|6.9836376404494365|\n",
      "|  Game-Show|             6.975|\n",
      "|    History| 6.822718115605146|\n",
      "|      Music| 6.752020202020201|\n",
      "|  Film-Noir| 6.636246786632391|\n",
      "|      Sport| 6.600145190562615|\n",
      "|        War| 6.483807030665668|\n",
      "| Reality-TV| 6.379310344827586|\n",
      "|  Animation| 6.326203750633553|\n",
      "|      Drama| 6.288080210387904|\n",
      "|     Family| 6.250560452715201|\n",
      "|    Musical|6.2032460545193695|\n",
      "|    Romance| 6.125714180397362|\n",
      "|      Crime| 6.026013332684541|\n",
      "|    Western| 5.948970989337963|\n",
      "|     Comedy| 5.941363108004129|\n",
      "|    Mystery| 5.940437535981577|\n",
      "+-----------+------------------+\n",
      "only showing top 20 rows"
     ]
    }
   ],
   "source": [
    "from pyspark.sql.functions import avg, mean, count, sum, col, max\n",
    "\n",
    "hbar_chart = genre_and_avgrating.sort(col(\"avg(averageRating)\").desc())\n",
    "hbar_chart.show(20)"
   ]
  },
  {
   "cell_type": "code",
   "execution_count": 37,
   "id": "e2ca4f24",
   "metadata": {},
   "outputs": [
    {
     "data": {
      "application/vnd.jupyter.widget-view+json": {
       "model_id": "627e76b7187145d294f7cf9cc0cd6634",
       "version_major": 2,
       "version_minor": 0
      },
      "text/plain": [
       "VBox()"
      ]
     },
     "metadata": {},
     "output_type": "display_data"
    },
    {
     "data": {
      "application/vnd.jupyter.widget-view+json": {
       "model_id": "",
       "version_major": 2,
       "version_minor": 0
      },
      "text/plain": [
       "FloatProgress(value=0.0, bar_style='info', description='Progress:', layout=Layout(height='25px', width='50%'),…"
      ]
     },
     "metadata": {},
     "output_type": "display_data"
    }
   ],
   "source": [
    "import matplotlib.pyplot as plt\n",
    "import pandas as pd\n",
    "#converting columsn to floats\n",
    "hbar_chart = hbar_chart.withColumn(\"genres\", col(\"genres\").cast(\"float\"))\\\n",
    "    .withColumn(\"avg(averageRating)\", col(\"avg(averageRating)\").cast(\"float\")).count()"
   ]
  },
  {
   "cell_type": "code",
   "execution_count": 40,
   "id": "a1738fd1",
   "metadata": {},
   "outputs": [
    {
     "data": {
      "application/vnd.jupyter.widget-view+json": {
       "model_id": "f264d9db477b4844ac3cbd8c771ce206",
       "version_major": 2,
       "version_minor": 0
      },
      "text/plain": [
       "VBox()"
      ]
     },
     "metadata": {},
     "output_type": "display_data"
    },
    {
     "data": {
      "application/vnd.jupyter.widget-view+json": {
       "model_id": "",
       "version_major": 2,
       "version_minor": 0
      },
      "text/plain": [
       "FloatProgress(value=0.0, bar_style='info', description='Progress:', layout=Layout(height='25px', width='50%'),…"
      ]
     },
     "metadata": {},
     "output_type": "display_data"
    },
    {
     "name": "stderr",
     "output_type": "stream",
     "text": [
      "'int' object has no attribute 'sort'\n",
      "Traceback (most recent call last):\n",
      "AttributeError: 'int' object has no attribute 'sort'\n",
      "\n"
     ]
    }
   ],
   "source": [
    "import matplotlib.pyplot as plt\n",
    "import pandas as pd\n",
    "\n",
    "plt.figure(figsize=(12, 8))\n",
    "hbar_chart.sort('genres',inplace=True)\n",
    "ax = hbar_chart.toPandas().plot.barh(color='m')\n",
    "ax.set_title('Top Genres in The Movie Category')\n",
    "ax.set_xlabel('Average Rating')\n",
    "ax.set_ylabel('Genre')\n",
    "%matplot plt"
   ]
  },
  {
   "cell_type": "markdown",
   "id": "bbbd8bb4",
   "metadata": {},
   "source": [
    "## PART 3 - Analyzing Job Categories"
   ]
  },
  {
   "cell_type": "markdown",
   "id": "5d2ac3d4",
   "metadata": {},
   "source": [
    "## Total Unique Job Categories"
   ]
  },
  {
   "cell_type": "markdown",
   "id": "b704a176",
   "metadata": {},
   "source": [
    "**What is the total number of unique job categories?**"
   ]
  },
  {
   "cell_type": "code",
   "execution_count": 32,
   "id": "7ed69298",
   "metadata": {},
   "outputs": [
    {
     "data": {
      "application/vnd.jupyter.widget-view+json": {
       "model_id": "f921dfb2dc044583b1be612a62247fc6",
       "version_major": 2,
       "version_minor": 0
      },
      "text/plain": [
       "VBox()"
      ]
     },
     "metadata": {},
     "output_type": "display_data"
    },
    {
     "data": {
      "application/vnd.jupyter.widget-view+json": {
       "model_id": "",
       "version_major": 2,
       "version_minor": 0
      },
      "text/plain": [
       "FloatProgress(value=0.0, bar_style='info', description='Progress:', layout=Layout(height='25px', width='50%'),…"
      ]
     },
     "metadata": {},
     "output_type": "display_data"
    },
    {
     "name": "stdout",
     "output_type": "stream",
     "text": [
      "+---------+---------------+\n",
      "|   tconst|       category|\n",
      "+---------+---------------+\n",
      "|tt0000001|           self|\n",
      "|tt0000001|       director|\n",
      "|tt0000001|cinematographer|\n",
      "|tt0000002|       director|\n",
      "|tt0000002|       composer|\n",
      "+---------+---------------+\n",
      "only showing top 5 rows"
     ]
    }
   ],
   "source": [
    "movie_actors.select(\"tconst\", \"category\").show(5)"
   ]
  },
  {
   "cell_type": "code",
   "execution_count": 41,
   "id": "ab14c3d8",
   "metadata": {},
   "outputs": [
    {
     "data": {
      "application/vnd.jupyter.widget-view+json": {
       "model_id": "863419a309d14400a8d60916e55674ac",
       "version_major": 2,
       "version_minor": 0
      },
      "text/plain": [
       "VBox()"
      ]
     },
     "metadata": {},
     "output_type": "display_data"
    },
    {
     "data": {
      "application/vnd.jupyter.widget-view+json": {
       "model_id": "",
       "version_major": 2,
       "version_minor": 0
      },
      "text/plain": [
       "FloatProgress(value=0.0, bar_style='info', description='Progress:', layout=Layout(height='25px', width='50%'),…"
      ]
     },
     "metadata": {},
     "output_type": "display_data"
    },
    {
     "name": "stdout",
     "output_type": "stream",
     "text": [
      "12"
     ]
    }
   ],
   "source": [
    "movie_actors.select(\"category\").distinct().count()"
   ]
  },
  {
   "cell_type": "markdown",
   "id": "22c28381",
   "metadata": {},
   "source": [
    "**What are the unique job categories available?**"
   ]
  },
  {
   "cell_type": "code",
   "execution_count": 42,
   "id": "e46b5d35",
   "metadata": {},
   "outputs": [
    {
     "data": {
      "application/vnd.jupyter.widget-view+json": {
       "model_id": "a1b080b19c2f4674a49274233072acb5",
       "version_major": 2,
       "version_minor": 0
      },
      "text/plain": [
       "VBox()"
      ]
     },
     "metadata": {},
     "output_type": "display_data"
    },
    {
     "data": {
      "application/vnd.jupyter.widget-view+json": {
       "model_id": "",
       "version_major": 2,
       "version_minor": 0
      },
      "text/plain": [
       "FloatProgress(value=0.0, bar_style='info', description='Progress:', layout=Layout(height='25px', width='50%'),…"
      ]
     },
     "metadata": {},
     "output_type": "display_data"
    },
    {
     "name": "stdout",
     "output_type": "stream",
     "text": [
      "+-------------------+\n",
      "|           category|\n",
      "+-------------------+\n",
      "|            actress|\n",
      "|           producer|\n",
      "|production_designer|\n",
      "|             writer|\n",
      "|              actor|\n",
      "|    cinematographer|\n",
      "|      archive_sound|\n",
      "|    archive_footage|\n",
      "|               self|\n",
      "|             editor|\n",
      "|           composer|\n",
      "|           director|\n",
      "+-------------------+"
     ]
    }
   ],
   "source": [
    "movie_actors.select(\"category\").distinct().show()"
   ]
  },
  {
   "cell_type": "markdown",
   "id": "62f54e58",
   "metadata": {},
   "source": [
    "## Top Job Categories"
   ]
  },
  {
   "cell_type": "markdown",
   "id": "1a89b1f0",
   "metadata": {},
   "source": [
    "Now let's find the top job categories in this dataset by rolling up categories."
   ]
  },
  {
   "cell_type": "markdown",
   "id": "b36bf0f8",
   "metadata": {},
   "source": [
    "Now let's find the top job categories in this dataset by rolling up categories."
   ]
  },
  {
   "cell_type": "markdown",
   "id": "64372fe6",
   "metadata": {},
   "source": [
    "The expected output should be:\n",
    "\n",
    "| category | count |\n",
    "|-------------|------------|\n",
    "| a     | 15         |\n",
    "| b     | 2          |\n",
    "| c     | 45          |\n",
    "\n",
    "Or something to that effect."
   ]
  },
  {
   "cell_type": "code",
   "execution_count": 43,
   "id": "91ce1c99",
   "metadata": {},
   "outputs": [
    {
     "data": {
      "application/vnd.jupyter.widget-view+json": {
       "model_id": "7e0fe1e7ecf64499917c8e7f6a25452e",
       "version_major": 2,
       "version_minor": 0
      },
      "text/plain": [
       "VBox()"
      ]
     },
     "metadata": {},
     "output_type": "display_data"
    },
    {
     "data": {
      "application/vnd.jupyter.widget-view+json": {
       "model_id": "",
       "version_major": 2,
       "version_minor": 0
      },
      "text/plain": [
       "FloatProgress(value=0.0, bar_style='info', description='Progress:', layout=Layout(height='25px', width='50%'),…"
      ]
     },
     "metadata": {},
     "output_type": "display_data"
    },
    {
     "name": "stdout",
     "output_type": "stream",
     "text": [
      "+-------------------+-------+\n",
      "|           category|  count|\n",
      "+-------------------+-------+\n",
      "|            actress|6325097|\n",
      "|           producer|2197866|\n",
      "|production_designer| 285924|\n",
      "|             writer|4811596|\n",
      "|              actor|8493701|\n",
      "|    cinematographer|1300404|\n",
      "|      archive_sound|   2143|\n",
      "|    archive_footage| 209035|\n",
      "|               self|6153089|\n",
      "|             editor|1197669|\n",
      "|           composer|1313187|\n",
      "|           director|4179106|\n",
      "+-------------------+-------+"
     ]
    }
   ],
   "source": [
    "from pyspark.sql.functions import col\n",
    "movie_actors.groupBy(col(\"category\")).count().show()"
   ]
  },
  {
   "cell_type": "markdown",
   "id": "764177f5",
   "metadata": {},
   "source": [
    "### Bar Chart of Top Job Categories\n",
    "\n",
    "With this data available, let us now build a barchart of the top 5 categories. \n",
    "\n",
    "**HINT**: don't forget about the matplotlib magic!\n",
    "\n",
    "```\n",
    "%matplot plt\n",
    "```"
   ]
  },
  {
   "cell_type": "code",
   "execution_count": 44,
   "id": "921fa941",
   "metadata": {},
   "outputs": [
    {
     "data": {
      "application/vnd.jupyter.widget-view+json": {
       "model_id": "45bc18bc929e41d183912c5baef240b7",
       "version_major": 2,
       "version_minor": 0
      },
      "text/plain": [
       "VBox()"
      ]
     },
     "metadata": {},
     "output_type": "display_data"
    },
    {
     "data": {
      "application/vnd.jupyter.widget-view+json": {
       "model_id": "",
       "version_major": 2,
       "version_minor": 0
      },
      "text/plain": [
       "FloatProgress(value=0.0, bar_style='info', description='Progress:', layout=Layout(height='25px', width='50%'),…"
      ]
     },
     "metadata": {},
     "output_type": "display_data"
    },
    {
     "name": "stdout",
     "output_type": "stream",
     "text": [
      "+-------------------+-------+\n",
      "|           category|  count|\n",
      "+-------------------+-------+\n",
      "|              actor|8493701|\n",
      "|            actress|6325097|\n",
      "|               self|6153089|\n",
      "|             writer|4811596|\n",
      "|           director|4179106|\n",
      "|           producer|2197866|\n",
      "|           composer|1313187|\n",
      "|    cinematographer|1300404|\n",
      "|             editor|1197669|\n",
      "|production_designer| 285924|\n",
      "|    archive_footage| 209035|\n",
      "|      archive_sound|   2143|\n",
      "+-------------------+-------+"
     ]
    }
   ],
   "source": [
    "from pyspark.sql.functions import avg, mean, count, sum, col, max\n",
    "\n",
    "bar_chart = movie_actors.groupBy(col(\"category\")).count()\n",
    "bar_chart.sort(col(\"count\").desc()).show()"
   ]
  },
  {
   "cell_type": "code",
   "execution_count": 45,
   "id": "64eb2a7a",
   "metadata": {},
   "outputs": [
    {
     "data": {
      "application/vnd.jupyter.widget-view+json": {
       "model_id": "a2ed9ee1225b4a379179b147528fef8d",
       "version_major": 2,
       "version_minor": 0
      },
      "text/plain": [
       "VBox()"
      ]
     },
     "metadata": {},
     "output_type": "display_data"
    },
    {
     "data": {
      "application/vnd.jupyter.widget-view+json": {
       "model_id": "",
       "version_major": 2,
       "version_minor": 0
      },
      "text/plain": [
       "FloatProgress(value=0.0, bar_style='info', description='Progress:', layout=Layout(height='25px', width='50%'),…"
      ]
     },
     "metadata": {},
     "output_type": "display_data"
    },
    {
     "data": {
      "image/png": "[encoded data removed]",
      "text/plain": [
       "<IPython.core.display.Image object>"
      ]
     },
     "metadata": {},
     "output_type": "display_data"
    }
   ],
   "source": [
    "from pyspark.sql.functions import avg, mean, count, sum, col, max\n",
    "import matplotlib.pyplot as plt\n",
    "import pandas as pd\n",
    "\n",
    "bar_chart = movie_actors.groupBy(col(\"category\")).count()\n",
    "new_barchart = bar_chart.sort(col(\"count\").desc())\n",
    "ax = new_barchart.toPandas().plot.bar(x = 'category', color='c')\n",
    "ax.set_title('Top Job Categories')\n",
    "ax.set_xlabel('Job Categories')\n",
    "ax.set_ylabel('Count')\n",
    "%matplot plt"
   ]
  },
  {
   "cell_type": "markdown",
   "id": "cdf16206",
   "metadata": {},
   "source": [
    "# PART 4 - Answer to the following questions:\n"
   ]
  },
  {
   "cell_type": "markdown",
   "id": "5fdb6e5f",
   "metadata": {},
   "source": [
    "## 1) Find all the \"movies\" featuring \"Johnny Depp\" and \"Helena Bonham Carter\"."
   ]
  },
  {
   "cell_type": "markdown",
   "id": "7e824dd9",
   "metadata": {},
   "source": [
    "First join actors, genres, and movie actors on each other"
   ]
  },
  {
   "cell_type": "code",
   "execution_count": 46,
   "id": "c2e6cac4",
   "metadata": {},
   "outputs": [
    {
     "data": {
      "application/vnd.jupyter.widget-view+json": {
       "model_id": "80dbba2699844c52a11dfb2b3bd26ea8",
       "version_major": 2,
       "version_minor": 0
      },
      "text/plain": [
       "VBox()"
      ]
     },
     "metadata": {},
     "output_type": "display_data"
    },
    {
     "data": {
      "application/vnd.jupyter.widget-view+json": {
       "model_id": "",
       "version_major": 2,
       "version_minor": 0
      },
      "text/plain": [
       "FloatProgress(value=0.0, bar_style='info', description='Progress:', layout=Layout(height='25px', width='50%'),…"
      ]
     },
     "metadata": {},
     "output_type": "display_data"
    },
    {
     "name": "stdout",
     "output_type": "stream",
     "text": [
      "+---------+---------+---------+--------------------+--------------------+-------+---------+-------+--------------+---------------+--------+--------+---+--------------------+-----------+---------+---------+--------------------+--------------------+\n",
      "|   nconst|   tconst|titleType|        primaryTitle|       originalTitle|isAdult|startYear|endYear|runtimeMinutes|         genres|ordering|category|job|          characters|primaryName|birthYear|deathYear|   primaryProfession|      knownForTitles|\n",
      "+---------+---------+---------+--------------------+--------------------+-------+---------+-------+--------------+---------------+--------+--------+---+--------------------+-----------+---------+---------+--------------------+--------------------+\n",
      "|nm0000198|tt1345836|    movie|The Dark Knight R...|The Dark Knight R...|      0|     2012|     \\N|           164|Action,Thriller|       4|   actor| \\N|[\"Commissioner Go...|Gary Oldman|     1958|       \\N|actor,soundtrack,...|tt0103874,tt13408...|\n",
      "+---------+---------+---------+--------------------+--------------------+-------+---------+-------+--------------+---------------+--------+--------+---+--------------------+-----------+---------+---------+--------------------+--------------------+\n",
      "only showing top 1 row"
     ]
    }
   ],
   "source": [
    "df = genres.join(movie_actors, on = [\"tconst\"], how = \"inner\").join(actors, on =[\"nconst\"], how = \"inner\")\n",
    "df.show(1)"
   ]
  },
  {
   "cell_type": "code",
   "execution_count": 47,
   "id": "1ba0b6e4",
   "metadata": {},
   "outputs": [
    {
     "data": {
      "application/vnd.jupyter.widget-view+json": {
       "model_id": "1dba562c87304fa29fb57b3f1e9c9819",
       "version_major": 2,
       "version_minor": 0
      },
      "text/plain": [
       "VBox()"
      ]
     },
     "metadata": {},
     "output_type": "display_data"
    },
    {
     "data": {
      "application/vnd.jupyter.widget-view+json": {
       "model_id": "",
       "version_major": 2,
       "version_minor": 0
      },
      "text/plain": [
       "FloatProgress(value=0.0, bar_style='info', description='Progress:', layout=Layout(height='25px', width='50%'),…"
      ]
     },
     "metadata": {},
     "output_type": "display_data"
    }
   ],
   "source": [
    "#creating 2 dataframes with Johnny Depp and Carter movies\n",
    "df_Depp = df.select(\"primaryTitle\").filter(df.titleType == \"movie\").filter(actors.primaryName == \"Johnny Depp\")\n",
    "df_Carter =  df.select(\"primaryTitle\").filter(df.titleType == \"movie\").filter(actors.primaryName == \"Helena Bonham Carter\")"
   ]
  },
  {
   "cell_type": "code",
   "execution_count": 48,
   "id": "41ed743d",
   "metadata": {},
   "outputs": [
    {
     "data": {
      "application/vnd.jupyter.widget-view+json": {
       "model_id": "e75696bcd30f4b659d86e13e491cc315",
       "version_major": 2,
       "version_minor": 0
      },
      "text/plain": [
       "VBox()"
      ]
     },
     "metadata": {},
     "output_type": "display_data"
    },
    {
     "data": {
      "application/vnd.jupyter.widget-view+json": {
       "model_id": "",
       "version_major": 2,
       "version_minor": 0
      },
      "text/plain": [
       "FloatProgress(value=0.0, bar_style='info', description='Progress:', layout=Layout(height='25px', width='50%'),…"
      ]
     },
     "metadata": {},
     "output_type": "display_data"
    },
    {
     "name": "stdout",
     "output_type": "stream",
     "text": [
      "+----------------------------------------------+\n",
      "|primaryTitle                                  |\n",
      "+----------------------------------------------+\n",
      "|Dark Shadows                                  |\n",
      "|Sweeney Todd: The Demon Barber of Fleet Street|\n",
      "|Alice Through the Looking Glass               |\n",
      "|Alice in Wonderland                           |\n",
      "|Charlie and the Chocolate Factory             |\n",
      "|Corpse Bride                                  |\n",
      "+----------------------------------------------+"
     ]
    }
   ],
   "source": [
    "df_all = df_Depp.join(df_Carter, on = [\"primaryTitle\"], how = \"inner\").show(truncate=False)"
   ]
  },
  {
   "cell_type": "markdown",
   "id": "df23aa97",
   "metadata": {},
   "source": [
    "## 2) Find all the \"movies\" featuring \"Brad Pitt\" after 2010."
   ]
  },
  {
   "cell_type": "code",
   "execution_count": 49,
   "id": "e463b0aa",
   "metadata": {},
   "outputs": [
    {
     "data": {
      "application/vnd.jupyter.widget-view+json": {
       "model_id": "6eb9c1e4a7da410c9924acef65080d81",
       "version_major": 2,
       "version_minor": 0
      },
      "text/plain": [
       "VBox()"
      ]
     },
     "metadata": {},
     "output_type": "display_data"
    },
    {
     "data": {
      "application/vnd.jupyter.widget-view+json": {
       "model_id": "",
       "version_major": 2,
       "version_minor": 0
      },
      "text/plain": [
       "FloatProgress(value=0.0, bar_style='info', description='Progress:', layout=Layout(height='25px', width='50%'),…"
      ]
     },
     "metadata": {},
     "output_type": "display_data"
    },
    {
     "name": "stdout",
     "output_type": "stream",
     "text": [
      "+---------------------------------+---------+\n",
      "|primaryTitle                     |startYear|\n",
      "+---------------------------------+---------+\n",
      "|Babylon                          |2021     |\n",
      "|Kajillionaire                    |2020     |\n",
      "|Irresistible                     |2020     |\n",
      "|The King                         |2019     |\n",
      "|Ad Astra                         |2019     |\n",
      "|Once Upon a Time ... in Hollywood|2019     |\n",
      "|Vice                             |2018     |\n",
      "|War Machine                      |2017     |\n",
      "|Allied                           |2016     |\n",
      "|Voyage of Time: Life's Journey   |2016     |\n",
      "|By the Sea                       |2015     |\n",
      "|Hitting the Apex                 |2015     |\n",
      "|The Big Short                    |2015     |\n",
      "|Fury                             |2014     |\n",
      "|Kick-Ass 2                       |2013     |\n",
      "|World War Z                      |2013     |\n",
      "|12 Years a Slave                 |2013     |\n",
      "|Killing Them Softly              |2012     |\n",
      "|The Tree of Life                 |2011     |\n",
      "|Moneyball                        |2011     |\n",
      "+---------------------------------+---------+"
     ]
    }
   ],
   "source": [
    "from pyspark.sql.functions import col\n",
    "df.select(\"primaryTitle\", \"startYear\")\\\n",
    "    .withColumn(\"startYear\", col(\"startYear\").cast(\"int\"))\\\n",
    "    .filter(genres.titleType == \"movie\")\\\n",
    "    .filter(actors.primaryName == \"Brad Pitt\")\\\n",
    "    .filter(genres.startYear > 2010)\\\n",
    "    .sort(col(\"startYear\").desc())\\\n",
    "    .show(truncate=False)"
   ]
  },
  {
   "cell_type": "markdown",
   "id": "557b22ba",
   "metadata": {},
   "source": [
    "## 3) What is the number of \"movies\" \"acted\" by \"Zendaya\" per year?"
   ]
  },
  {
   "cell_type": "code",
   "execution_count": 50,
   "id": "729164a3",
   "metadata": {},
   "outputs": [
    {
     "data": {
      "application/vnd.jupyter.widget-view+json": {
       "model_id": "dd09455fa85a4c1db1aea1af63041b00",
       "version_major": 2,
       "version_minor": 0
      },
      "text/plain": [
       "VBox()"
      ]
     },
     "metadata": {},
     "output_type": "display_data"
    },
    {
     "data": {
      "application/vnd.jupyter.widget-view+json": {
       "model_id": "",
       "version_major": 2,
       "version_minor": 0
      },
      "text/plain": [
       "FloatProgress(value=0.0, bar_style='info', description='Progress:', layout=Layout(height='25px', width='50%'),…"
      ]
     },
     "metadata": {},
     "output_type": "display_data"
    },
    {
     "name": "stdout",
     "output_type": "stream",
     "text": [
      "+---------+----------------+\n",
      "|startYear|count(startYear)|\n",
      "+---------+----------------+\n",
      "|2020     |1               |\n",
      "|2018     |2               |\n",
      "|2017     |1               |\n",
      "+---------+----------------+"
     ]
    }
   ],
   "source": [
    "nll = '\\\\N'\n",
    "df.select(\"startYear\")\\\n",
    "    .filter(df.titleType == \"movie\")\\\n",
    "    .filter(df.startYear != nll)\\\n",
    "    .filter(actors.primaryName == \"Zendaya\")\\\n",
    "    .groupBy(\"startYear\").agg(count(\"startYear\")).alias(\"count\")\\\n",
    "    .show(truncate=False)"
   ]
  },
  {
   "cell_type": "markdown",
   "id": "1a1653a3",
   "metadata": {},
   "source": [
    "## 4) What are the \"movies\" by average rating greater than \"9.7\" and released in \"2019\"?"
   ]
  },
  {
   "cell_type": "code",
   "execution_count": 51,
   "id": "cfbcb444",
   "metadata": {},
   "outputs": [
    {
     "data": {
      "application/vnd.jupyter.widget-view+json": {
       "model_id": "6d12f3d610c845049dbbf805f1305a35",
       "version_major": 2,
       "version_minor": 0
      },
      "text/plain": [
       "VBox()"
      ]
     },
     "metadata": {},
     "output_type": "display_data"
    },
    {
     "data": {
      "application/vnd.jupyter.widget-view+json": {
       "model_id": "",
       "version_major": 2,
       "version_minor": 0
      },
      "text/plain": [
       "FloatProgress(value=0.0, bar_style='info', description='Progress:', layout=Layout(height='25px', width='50%'),…"
      ]
     },
     "metadata": {},
     "output_type": "display_data"
    },
    {
     "name": "stdout",
     "output_type": "stream",
     "text": [
      "+-------------------------------------------------+-------------+\n",
      "|PrimaryTitle                                     |averageRating|\n",
      "+-------------------------------------------------+-------------+\n",
      "|Our Scripted Life                                |10.0         |\n",
      "|Kirket                                           |10.0         |\n",
      "|Bu Can Var Oldugu Sürece                         |10.0         |\n",
      "|L'Enfant Terrible                                |10.0         |\n",
      "|The Butcher Baronet                              |10.0         |\n",
      "|A Medicine for the Mind                          |10.0         |\n",
      "|Love in Kilnerry                                 |10.0         |\n",
      "|The Twilight Zone: A 60th Anniversary Celebration|10.0         |\n",
      "|A Grunt's Life                                   |10.0         |\n",
      "|The Cardinal                                     |9.9          |\n",
      "|Puritan: All of Life to The Glory of God         |9.9          |\n",
      "|Superhombre                                      |9.9          |\n",
      "|Kamen Rider Zi-O: Over Quartzer                  |9.8          |\n",
      "|Time and motion                                  |9.8          |\n",
      "|We Shall Not Die Now                             |9.8          |\n",
      "|Randhawa                                         |9.8          |\n",
      "|Square One                                       |9.8          |\n",
      "|From Shock to Awe                                |9.8          |\n",
      "|Gini Helida Kathe                                |9.8          |\n",
      "+-------------------------------------------------+-------------+"
     ]
    }
   ],
   "source": [
    "from pyspark.sql.functions import avg, mean, count, sum, col, max \n",
    "nll = '\\\\N'\n",
    "genres.join(movie_ratings, on = [\"tconst\"], how = \"inner\")\\\n",
    "    .select(\"PrimaryTitle\", \"averageRating\")\\\n",
    "    .withColumn(\"averageRating\" , col(\"averageRating\").cast(\"float\"))\\\n",
    "    .filter(movie_ratings.averageRating != nll)\\\n",
    "    .filter(genres.titleType == \"movie\")\\\n",
    "    .filter((movie_ratings.averageRating > 9.7) & (genres.startYear == 2019))\\\n",
    "    .sort(col(\"averageRating\").desc())\\\n",
    "    .show(truncate=False)"
   ]
  },
  {
   "cell_type": "markdown",
   "id": "f9546754",
   "metadata": {},
   "source": [
    "## Extra Credit - Analysis of your choice\n",
    "\n",
    "Try and analyze some interesting dimension to this data. You should specify the question in your Project2_Analysis.ipynb. \n",
    "\n",
    "You must join at least two datasets.\n",
    "\n"
   ]
  },
  {
   "cell_type": "markdown",
   "id": "94572af5",
   "metadata": {},
   "source": [
    "## 1) Which movie genres had a rating of 10 in 2019?"
   ]
  },
  {
   "cell_type": "code",
   "execution_count": 52,
   "id": "0e403565",
   "metadata": {},
   "outputs": [
    {
     "data": {
      "application/vnd.jupyter.widget-view+json": {
       "model_id": "83335ef1a8d24bd1a74a4c3cbd0ce6c0",
       "version_major": 2,
       "version_minor": 0
      },
      "text/plain": [
       "VBox()"
      ]
     },
     "metadata": {},
     "output_type": "display_data"
    },
    {
     "data": {
      "application/vnd.jupyter.widget-view+json": {
       "model_id": "",
       "version_major": 2,
       "version_minor": 0
      },
      "text/plain": [
       "FloatProgress(value=0.0, bar_style='info', description='Progress:', layout=Layout(height='25px', width='50%'),…"
      ]
     },
     "metadata": {},
     "output_type": "display_data"
    },
    {
     "name": "stdout",
     "output_type": "stream",
     "text": [
      "+-------+-------------+\n",
      "|genres |averageRating|\n",
      "+-------+-------------+\n",
      "|Fantasy|10.0         |\n",
      "|Crime  |10.0         |\n",
      "+-------+-------------+"
     ]
    }
   ],
   "source": [
    "from pyspark.sql.functions import avg, mean, count, sum, col, max \n",
    "nll = '\\\\N'\n",
    "genres.join(movie_ratings, on = [\"tconst\"], how = \"inner\")\\\n",
    "    .select(\"genres\", \"averageRating\")\\\n",
    "    .withColumn(\"averageRating\" , col(\"averageRating\").cast(\"float\"))\\\n",
    "    .withColumn('genres',explode(split(\"genres\",\",\"))).distinct()\\\n",
    "    .filter(movie_ratings.averageRating != nll)\\\n",
    "    .filter(genres.titleType == \"movie\")\\\n",
    "    .filter((movie_ratings.averageRating > 9.9) & (genres.startYear == 2019))\\\n",
    "    .sort(col(\"averageRating\").desc())\\\n",
    "    .show(truncate=False)"
   ]
  }
 ],
 "metadata": {
  "kernelspec": {
   "display_name": "PySpark",
   "language": "",
   "name": "pysparkkernel"
  },
  "language_info": {
   "codemirror_mode": {
    "name": "python",
    "version": 2
   },
   "mimetype": "text/x-python",
   "name": "pyspark",
   "pygments_lexer": "python2"
  }
 },
 "nbformat": 4,
 "nbformat_minor": 5
}
